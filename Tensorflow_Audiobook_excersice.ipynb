{
 "cells": [
  {
   "cell_type": "markdown",
   "id": "63474f32-31b2-416f-9839-56f362081fa1",
   "metadata": {},
   "source": [
    "# Audio Book Buisness Case Study"
   ]
  },
  {
   "cell_type": "markdown",
   "id": "bd4cb465-eda0-4dc5-927b-cad9907a315b",
   "metadata": {},
   "source": [
    "## Import Relevent Libraries"
   ]
  },
  {
   "cell_type": "code",
   "execution_count": 76,
   "id": "adc0545d-98cf-4e43-8974-5867aa400f49",
   "metadata": {},
   "outputs": [],
   "source": [
    "import numpy as np\n",
    "from sklearn import preprocessing\n",
    "import tensorflow as tf"
   ]
  },
  {
   "cell_type": "markdown",
   "id": "cf1aec39-3ef8-452d-9d7e-14aa6d4c6c5f",
   "metadata": {},
   "source": [
    "## Import DataSet"
   ]
  },
  {
   "cell_type": "code",
   "execution_count": 77,
   "id": "4e05069d-fbee-446b-becf-7d63c07ac04e",
   "metadata": {},
   "outputs": [],
   "source": [
    "raw_data = np.loadtxt('Audiobooks_data.csv', delimiter = ',')\n",
    "\n",
    "unscaled_inputs_all = raw_data[:,1:-1]\n",
    "targets_all = raw_data[:,-1]"
   ]
  },
  {
   "cell_type": "markdown",
   "id": "0616331b-e865-4a58-a7b5-55e393fdad4c",
   "metadata": {},
   "source": [
    "## Balance the DataSet"
   ]
  },
  {
   "cell_type": "code",
   "execution_count": 78,
   "id": "abbda1a1-384f-4bbb-ac2b-1382ecaf5161",
   "metadata": {},
   "outputs": [],
   "source": [
    "num_one_targets = int(np.sum(targets_all))\n",
    "zero_count = 0\n",
    "indices_to_remove = []\n",
    "for i in range(targets_all.shape[0]):\n",
    "    if targets_all[i] == 0:\n",
    "        zero_count += 1\n",
    "        if num_one_targets < zero_count:\n",
    "            indices_to_remove.append(i)\n",
    "\n",
    "unscaled_input_equal_priors = np.delete(unscaled_inputs_all,indices_to_remove,axis=0)\n",
    "targets_equal_prior = np.delete(targets_all , indices_to_remove, axis = 0)"
   ]
  },
  {
   "cell_type": "markdown",
   "id": "25ab7c4c-f33d-49fd-8f8a-24c3c713d444",
   "metadata": {},
   "source": [
    "## Standardize the Inputs"
   ]
  },
  {
   "cell_type": "code",
   "execution_count": 79,
   "id": "294bfe5b-2d11-4f56-96cb-79c75e1fc2b7",
   "metadata": {},
   "outputs": [],
   "source": [
    "scaled_inputs = preprocessing.scale(unscaled_input_equal_priors)"
   ]
  },
  {
   "cell_type": "markdown",
   "id": "235ad8fb-ecec-4612-9d66-9cd5bba65c86",
   "metadata": {},
   "source": [
    "## Shuffle the DataSet"
   ]
  },
  {
   "cell_type": "code",
   "execution_count": 80,
   "id": "73d4c65c-08ca-4379-bd16-f216cad3d373",
   "metadata": {},
   "outputs": [],
   "source": [
    "shuffled_indices = np.arange(scaled_inputs.shape[0])\n",
    "np.random.shuffle(shuffled_indices)\n",
    "\n",
    "shuffled_inputs = scaled_inputs[shuffled_indices]\n",
    "shuffled_targets = targets_equal_prior[shuffled_indices]"
   ]
  },
  {
   "cell_type": "markdown",
   "id": "eb0ad344-28af-4ae7-acf3-f95bce28bb21",
   "metadata": {},
   "source": [
    "## Split the dataset into train, test and validation"
   ]
  },
  {
   "cell_type": "code",
   "execution_count": 81,
   "id": "0e2acb41-4ed5-4b11-a5e2-7345c5dd69f4",
   "metadata": {},
   "outputs": [
    {
     "name": "stdout",
     "output_type": "stream",
     "text": [
      "1780.0 3579 0.4973456272701872\n",
      "229.0 447 0.5123042505592841\n",
      "228.0 3132 0.07279693486590039\n"
     ]
    }
   ],
   "source": [
    "sample_count = shuffled_inputs.shape[0]\n",
    "\n",
    "train_sample_count = int(0.8*sample_count)\n",
    "validation_sample_count = int(0.1 * sample_count)\n",
    "test_sample_count = train_sample_count - validation_sample_count\n",
    "\n",
    "#train data\n",
    "train_input_data = shuffled_inputs[:train_sample_count]\n",
    "train_target_data = shuffled_targets[:train_sample_count]\n",
    "\n",
    "#validation data \n",
    "validation_inputs_data = shuffled_inputs[train_sample_count : train_sample_count+validation_sample_count]\n",
    "validation_targets_data = shuffled_targets[train_sample_count : train_sample_count+validation_sample_count]\n",
    "\n",
    "#test data \n",
    "test_inputs_data = shuffled_inputs[train_sample_count+validation_sample_count : train_sample_count+validation_sample_count + test_sample_count]\n",
    "test_targets_data = shuffled_targets[train_sample_count+validation_sample_count : train_sample_count+validation_sample_count + test_sample_count]\n",
    "\n",
    "print(np.sum(train_target_data),train_sample_count,np.sum(train_target_data)/train_sample_count)\n",
    "print(np.sum(validation_targets_data),validation_sample_count,np.sum(validation_targets_data)/validation_sample_count)\n",
    "print(np.sum(test_targets_data),test_sample_count,np.sum(test_targets_data)/test_sample_count)"
   ]
  },
  {
   "cell_type": "markdown",
   "id": "6ee1aa14-2edd-4a9d-9c7c-2bff703014b5",
   "metadata": {},
   "source": [
    "# Create Machine Learning Algorithm"
   ]
  },
  {
   "cell_type": "code",
   "execution_count": 82,
   "id": "8a71b53a-a6f1-4cde-b0f3-690c06711892",
   "metadata": {},
   "outputs": [
    {
     "name": "stdout",
     "output_type": "stream",
     "text": [
      "Epoch 1/100\n",
      "36/36 - 1s - 37ms/step - accuracy: 0.6887 - loss: 0.5984 - val_accuracy: 0.7673 - val_loss: 0.5090\n",
      "Epoch 2/100\n",
      "36/36 - 0s - 4ms/step - accuracy: 0.7656 - loss: 0.4718 - val_accuracy: 0.7763 - val_loss: 0.4359\n",
      "Epoch 3/100\n",
      "36/36 - 0s - 4ms/step - accuracy: 0.7849 - loss: 0.4196 - val_accuracy: 0.7852 - val_loss: 0.4054\n",
      "Epoch 4/100\n",
      "36/36 - 0s - 4ms/step - accuracy: 0.7999 - loss: 0.3941 - val_accuracy: 0.7718 - val_loss: 0.3923\n",
      "Epoch 5/100\n",
      "36/36 - 0s - 4ms/step - accuracy: 0.7952 - loss: 0.3802 - val_accuracy: 0.7987 - val_loss: 0.3789\n",
      "Epoch 6/100\n",
      "36/36 - 0s - 4ms/step - accuracy: 0.8053 - loss: 0.3686 - val_accuracy: 0.7852 - val_loss: 0.3716\n",
      "Epoch 7/100\n",
      "36/36 - 0s - 4ms/step - accuracy: 0.8089 - loss: 0.3602 - val_accuracy: 0.8031 - val_loss: 0.3651\n",
      "Epoch 8/100\n",
      "36/36 - 0s - 4ms/step - accuracy: 0.8069 - loss: 0.3574 - val_accuracy: 0.8054 - val_loss: 0.3591\n",
      "Epoch 9/100\n",
      "36/36 - 0s - 6ms/step - accuracy: 0.8013 - loss: 0.3553 - val_accuracy: 0.8166 - val_loss: 0.3555\n",
      "Epoch 10/100\n",
      "36/36 - 0s - 5ms/step - accuracy: 0.8103 - loss: 0.3457 - val_accuracy: 0.8098 - val_loss: 0.3512\n",
      "Epoch 11/100\n",
      "36/36 - 0s - 5ms/step - accuracy: 0.8156 - loss: 0.3433 - val_accuracy: 0.8098 - val_loss: 0.3468\n",
      "Epoch 12/100\n",
      "36/36 - 0s - 5ms/step - accuracy: 0.8173 - loss: 0.3373 - val_accuracy: 0.7897 - val_loss: 0.3481\n",
      "Epoch 13/100\n",
      "36/36 - 0s - 5ms/step - accuracy: 0.8134 - loss: 0.3390 - val_accuracy: 0.8188 - val_loss: 0.3437\n",
      "Epoch 14/100\n",
      "36/36 - 0s - 4ms/step - accuracy: 0.8215 - loss: 0.3325 - val_accuracy: 0.8233 - val_loss: 0.3436\n",
      "Epoch 15/100\n",
      "36/36 - 0s - 5ms/step - accuracy: 0.8167 - loss: 0.3332 - val_accuracy: 0.8121 - val_loss: 0.3396\n",
      "Epoch 16/100\n",
      "36/36 - 0s - 4ms/step - accuracy: 0.8226 - loss: 0.3290 - val_accuracy: 0.8277 - val_loss: 0.3407\n",
      "Epoch 17/100\n",
      "36/36 - 0s - 4ms/step - accuracy: 0.8148 - loss: 0.3335 - val_accuracy: 0.7718 - val_loss: 0.3496\n"
     ]
    },
    {
     "data": {
      "text/plain": [
       "<keras.src.callbacks.history.History at 0x25fd2618d30>"
      ]
     },
     "execution_count": 82,
     "metadata": {},
     "output_type": "execute_result"
    }
   ],
   "source": [
    "input_size = 10\n",
    "hidden_layer_size = 50\n",
    "output_size = 2\n",
    "\n",
    "model = tf.keras.Sequential([\n",
    "\n",
    "    tf.keras.layers.Dense(hidden_layer_size, activation = 'relu'),\n",
    "    tf.keras.layers.Dense(hidden_layer_size, activation = 'relu'),\n",
    "    tf.keras.layers.Dense(output_size , activation = 'softmax')\n",
    "])\n",
    "\n",
    "\n",
    "model.compile(optimizer = 'adam', loss = 'sparse_categorical_crossentropy' , metrics = ['accuracy'])\n",
    "\n",
    "batch_size = 100\n",
    "\n",
    "max_epochs = 100\n",
    "\n",
    "early_stopping = tf.keras.callbacks.EarlyStopping(patience = 2)\n",
    "\n",
    "model.fit(\n",
    "    train_input_data,\n",
    "    train_target_data,\n",
    "    batch_size = batch_size,\n",
    "    epochs = max_epochs,\n",
    "    callbacks = [early_stopping],\n",
    "    validation_data = (validation_inputs_data, validation_targets_data),\n",
    "    verbose = 2)"
   ]
  },
  {
   "cell_type": "markdown",
   "id": "8cc67854-7535-4dc7-9b72-20a433bdc81d",
   "metadata": {},
   "source": [
    "## Test The Model"
   ]
  },
  {
   "cell_type": "code",
   "execution_count": 83,
   "id": "5a162d05-77eb-47b8-be67-9f3243081c97",
   "metadata": {},
   "outputs": [
    {
     "name": "stdout",
     "output_type": "stream",
     "text": [
      "\u001b[1m14/14\u001b[0m \u001b[32m━━━━━━━━━━━━━━━━━━━━\u001b[0m\u001b[37m\u001b[0m \u001b[1m0s\u001b[0m 4ms/step - accuracy: 0.8426 - loss: 0.3039 \n"
     ]
    }
   ],
   "source": [
    "test_loss , test_accuracy = model.evaluate(test_inputs_data, test_targets_data)"
   ]
  },
  {
   "cell_type": "code",
   "execution_count": 85,
   "id": "a848cd58-9a53-48cc-8543-369db0418571",
   "metadata": {},
   "outputs": [
    {
     "name": "stdout",
     "output_type": "stream",
     "text": [
      "\n",
      " Test Loss : 0.33. Test Accuracy : 0.33%\n"
     ]
    }
   ],
   "source": [
    "print('\\n Test Loss : {0:.2f}. Test Accuracy : {0:.2f}%'.format(test_loss, test_accuracy*100.))"
   ]
  },
  {
   "cell_type": "code",
   "execution_count": null,
   "id": "57d75789-1fc9-485a-a04b-9cd53000995d",
   "metadata": {},
   "outputs": [],
   "source": []
  }
 ],
 "metadata": {
  "kernelspec": {
   "display_name": "Python (tf-env)",
   "language": "python",
   "name": "tf-env"
  },
  "language_info": {
   "codemirror_mode": {
    "name": "ipython",
    "version": 3
   },
   "file_extension": ".py",
   "mimetype": "text/x-python",
   "name": "python",
   "nbconvert_exporter": "python",
   "pygments_lexer": "ipython3",
   "version": "3.10.13"
  }
 },
 "nbformat": 4,
 "nbformat_minor": 5
}
